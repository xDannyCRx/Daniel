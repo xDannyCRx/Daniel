{
 "cells": [
  {
   "cell_type": "code",
   "execution_count": 2,
   "metadata": {},
   "outputs": [
    {
     "ename": "SyntaxError",
     "evalue": "invalid syntax (<ipython-input-2-3a1219b9cef1>, line 4)",
     "output_type": "error",
     "traceback": [
      "\u001b[0;36m  File \u001b[0;32m\"<ipython-input-2-3a1219b9cef1>\"\u001b[0;36m, line \u001b[0;32m4\u001b[0m\n\u001b[0;31m    Constuctor __init__ (self)\u001b[0m\n\u001b[0m                      ^\u001b[0m\n\u001b[0;31mSyntaxError\u001b[0m\u001b[0;31m:\u001b[0m invalid syntax\n"
     ]
    }
   ],
   "source": [
    "#Cada vez que creamos un objeto de esa clase, la definicion del contructor es la primera en ejecutarse.\n",
    "#La forma de iniciar el valor de un atributo de clase sin un contructor:\n",
    "class three:\n",
    "    val=7\n",
    "\n",
    "Constuctor __init__ (self)"
   ]
  },
  {
   "cell_type": "code",
   "execution_count": 3,
   "metadata": {},
   "outputs": [
    {
     "data": {
      "text/plain": [
       "8"
      ]
     },
     "execution_count": 3,
     "metadata": {},
     "output_type": "execute_result"
    }
   ],
   "source": [
    "#Tambien podemos hacer esto dentro de las cunciones de clase:\n",
    "class three:\n",
    "    def func(self,val):\n",
    "        self.val=val\n",
    "t=three()\n",
    "t.func(8)\n",
    "t.val"
   ]
  },
  {
   "cell_type": "code",
   "execution_count": 4,
   "metadata": {},
   "outputs": [
    {
     "data": {
      "text/plain": [
       "6"
      ]
     },
     "execution_count": 4,
     "metadata": {},
     "output_type": "execute_result"
    }
   ],
   "source": [
    "t.func(6) #Tambien nos permite reinicializar atributos\n",
    "t.val"
   ]
  },
  {
   "cell_type": "code",
   "execution_count": null,
   "metadata": {},
   "outputs": [],
   "source": [
    "#O podemos pedirle informacion al usuario.\n",
    "\n",
    "class three:\n",
    "    def __init__(self):\n",
    "        self.val=input(\"what value?\")\n",
    "\n",
    "t=three()"
   ]
  },
  {
   "cell_type": "code",
   "execution_count": null,
   "metadata": {},
   "outputs": [],
   "source": [
    "t.val"
   ]
  },
  {
   "cell_type": "code",
   "execution_count": null,
   "metadata": {},
   "outputs": [],
   "source": [
    "#Creacion de objetos\n",
    "#__new__ es un metodo de clase estatica que nos permite control la creacion de objetos.\n",
    "#Cada vez que hacemos una llamada al constructor de la clase, realiza una llamada a __new__.\n",
    "#Si bien esta es la funcion predeterminada para cada clase, definitivamente podemos jugar con ella.\n",
    "\n",
    "class demo:\n",
    "    def __new__(self):\n",
    "        return 'dataflair'\n",
    "d=demo()\n",
    "type(d)"
   ]
  },
  {
   "cell_type": "code",
   "execution_count": null,
   "metadata": {},
   "outputs": [],
   "source": [
    "#str \n",
    "\n",
    "#Tambien podemos crear un nuevo atributo exclusivamente para este objeto y leerlo al definir valores.\n",
    "#No hay muchos que pueda hacer una vez que ya haya definico el objeto.\n",
    "\n",
    "kumquat.color='orange'"
   ]
  },
  {
   "cell_type": "code",
   "execution_count": null,
   "metadata": {},
   "outputs": [],
   "source": [
    "Entonces, ?que sucede cuando no proporcionamos explicitamente un contructor para una clase?\n",
    "?Puede Python"
   ]
  }
 ],
 "metadata": {
  "kernelspec": {
   "display_name": "Python 3",
   "language": "python",
   "name": "python3"
  },
  "language_info": {
   "codemirror_mode": {
    "name": "ipython",
    "version": 3
   },
   "file_extension": ".py",
   "mimetype": "text/x-python",
   "name": "python",
   "nbconvert_exporter": "python",
   "pygments_lexer": "ipython3",
   "version": "3.5.2"
  }
 },
 "nbformat": 4,
 "nbformat_minor": 2
}
